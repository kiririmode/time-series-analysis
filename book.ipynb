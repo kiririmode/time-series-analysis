{
 "cells": [
  {
   "cell_type": "code",
   "execution_count": 2,
   "id": "fe7ffa3c",
   "metadata": {},
   "outputs": [
    {
     "data": {
      "text/plain": [
       "[-2.0362675279598452,\n",
       " -0.5555934322249564,\n",
       " -0.47263505118087273,\n",
       " -1.4022119263755235,\n",
       " 1.0436254539220378,\n",
       " -0.037267068988873,\n",
       " -1.2859556386141533]"
      ]
     },
     "execution_count": 2,
     "metadata": {},
     "output_type": "execute_result"
    }
   ],
   "source": [
    "import numpy as np\n",
    "data = [np.random.standard_normal() for i in range(7)]\n",
    "data"
   ]
  },
  {
   "cell_type": "code",
   "execution_count": 5,
   "id": "5eca4b4c",
   "metadata": {},
   "outputs": [
    {
     "name": "stdout",
     "output_type": "stream",
     "text": [
      "\u001b[31mType:\u001b[39m        list\n",
      "\u001b[31mString form:\u001b[39m [-2.0362675279598452, -0.5555934322249564, -0.47263505118087273, -1.4022119263755235, 1.0436254539220378, -0.037267068988873, -1.2859556386141533]\n",
      "\u001b[31mLength:\u001b[39m      7\n",
      "\u001b[31mDocstring:\u001b[39m  \n",
      "Built-in mutable sequence.\n",
      "\n",
      "If no argument is given, the constructor creates a new empty list.\n",
      "The argument must be an iterable if specified."
     ]
    }
   ],
   "source": [
    "data?"
   ]
  }
 ],
 "metadata": {
  "kernelspec": {
   "display_name": ".venv",
   "language": "python",
   "name": "python3"
  },
  "language_info": {
   "codemirror_mode": {
    "name": "ipython",
    "version": 3
   },
   "file_extension": ".py",
   "mimetype": "text/x-python",
   "name": "python",
   "nbconvert_exporter": "python",
   "pygments_lexer": "ipython3",
   "version": "3.12.9"
  }
 },
 "nbformat": 4,
 "nbformat_minor": 5
}
